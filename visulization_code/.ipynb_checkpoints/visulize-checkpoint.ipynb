{
 "cells": [
  {
   "cell_type": "code",
   "execution_count": 1,
   "metadata": {},
   "outputs": [
    {
     "name": "stdout",
     "output_type": "stream",
     "text": [
      "Jupyter environment detected. Enabling Open3D WebVisualizer.\n",
      "[Open3D INFO] WebRTC GUI backend enabled.\n",
      "[Open3D INFO] WebRTCWindowSystem: HTTP handshake server disabled.\n"
     ]
    }
   ],
   "source": [
    "from glob import glob\n",
    "import os\n",
    "import numpy as np\n",
    "import open3d as o3d\n",
    "import time\n",
    "from tqdm import tqdm\n",
    "from visual import corners_to_lines\n",
    "from numpy import load"
   ]
  },
  {
   "cell_type": "code",
   "execution_count": 9,
   "metadata": {},
   "outputs": [
    {
     "name": "stdout",
     "output_type": "stream",
     "text": [
      "[[[-2.1948967  -1.3714328  -0.9570407   0.          0.        ]\n",
      "  [-1.4911034  -2.2776115  -0.9770407   0.          0.        ]\n",
      "  [ 1.1195345   0.18953623 -0.92704076  0.          0.        ]\n",
      "  ...\n",
      "  [-1.1154222   1.9428626  -0.9230407   0.1         0.5       ]\n",
      "  [ 2.292695    1.7828295  -0.9180407   0.1         0.5       ]\n",
      "  [-0.04740964 -1.4263265  -0.95304066  0.1         0.5       ]]]\n"
     ]
    }
   ],
   "source": [
    "X = np.load(r'C:\\Users\\xjell\\Desktop\\visulization_code\\pc+Bbox\\point_cloud_1.npy')\n",
    "print(X)"
   ]
  },
  {
   "cell_type": "code",
   "execution_count": null,
   "metadata": {},
   "outputs": [],
   "source": []
  },
  {
   "cell_type": "code",
   "execution_count": 4,
   "metadata": {},
   "outputs": [],
   "source": [
    "filename = r'C:\\Users\\xjell\\Desktop\\visulization_code\\sample_data\\batch_13_idx67.npz'\n",
    "data = np.load(filename)\n",
    "template = data['template']\n",
    "search = data['search']\n",
    "box1 = data['bbox_temp']\n",
    "box2 = data['bbox_gt']\n",
    "box3 = data['bbox_pred']\n",
    "\n",
    "lines1 = corners_to_lines(box1.transpose().tolist(), color=[0,0,0])\n",
    "lines2 = corners_to_lines(box2.transpose().tolist(), color=[0,1,0])\n",
    "lines3 = corners_to_lines(box3.transpose().tolist(), color=[1,0,0])\n",
    "\n",
    "pcd1 = o3d.geometry.PointCloud()\n",
    "pcd1.points = o3d.utility.Vector3dVector(template)\n",
    "pcd1.colors = o3d.utility.Vector3dVector(np.zeros_like(template))\n",
    "\n",
    "pcd2 = o3d.geometry.PointCloud()\n",
    "pcd2.points = o3d.utility.Vector3dVector(search)\n",
    "color = np.zeros_like(search)\n",
    "color[:,0] = 1\n",
    "pcd2.colors = o3d.utility.Vector3dVector(color)\n",
    "\n",
    "axis = o3d.geometry.TriangleMesh.create_coordinate_frame(size=1, origin=[0, 0, 0])\n",
    "visual = [axis, pcd1, pcd2, lines1, lines2, lines3]\n",
    "o3d.visualization.draw_geometries(visual)"
   ]
  },
  {
   "cell_type": "code",
   "execution_count": null,
   "metadata": {},
   "outputs": [],
   "source": []
  },
  {
   "cell_type": "code",
   "execution_count": null,
   "metadata": {},
   "outputs": [],
   "source": []
  },
  {
   "cell_type": "code",
   "execution_count": null,
   "metadata": {},
   "outputs": [],
   "source": []
  }
 ],
 "metadata": {
  "interpreter": {
   "hash": "aee8b7b246df8f9039afb4144a1f6fd8d2ca17a180786b69acc140d282b71a49"
  },
  "kernelspec": {
   "display_name": "Python 3 (ipykernel)",
   "language": "python",
   "name": "python3"
  },
  "language_info": {
   "codemirror_mode": {
    "name": "ipython",
    "version": 3
   },
   "file_extension": ".py",
   "mimetype": "text/x-python",
   "name": "python",
   "nbconvert_exporter": "python",
   "pygments_lexer": "ipython3",
   "version": "3.9.7"
  }
 },
 "nbformat": 4,
 "nbformat_minor": 2
}
